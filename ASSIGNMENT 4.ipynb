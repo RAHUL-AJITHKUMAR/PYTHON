{
 "cells": [
  {
   "cell_type": "markdown",
   "id": "d0320bbc-8925-4f19-9062-715538376386",
   "metadata": {},
   "source": [
    "# Exercise 1 : Function & Arguments"
   ]
  },
  {
   "cell_type": "code",
   "execution_count": 36,
   "id": "88d95c83-842f-40a0-9a10-60a6eaf80b88",
   "metadata": {},
   "outputs": [
    {
     "name": "stdout",
     "output_type": "stream",
     "text": [
      "20\n"
     ]
    }
   ],
   "source": [
    "def fun(a,b=10,c='None'):\n",
    "    if c=='None':\n",
    "        print(a+b)\n",
    "    else:\n",
    "        print(a*b*c)\n",
    "\n",
    "fun(a=15,b=5)"
   ]
  },
  {
   "cell_type": "markdown",
   "id": "1e824adc-ceb0-441b-a1ab-94450dbf75dd",
   "metadata": {},
   "source": [
    "# Exercise 2 : String Length"
   ]
  },
  {
   "cell_type": "code",
   "execution_count": 3,
   "id": "05cf17dc-4373-4ccc-9d29-7af68f80a26b",
   "metadata": {},
   "outputs": [
    {
     "name": "stdout",
     "output_type": "stream",
     "text": [
      "Rahul\n",
      "Sachin\n",
      "Jadeja\n"
     ]
    }
   ],
   "source": [
    "def function(*args):\n",
    "    for i in args:\n",
    "        if len(i) >= 5:\n",
    "            print(i)\n",
    "\n",
    "function('Rahul', 'Sachin', 'Sai', 'Jadeja', 'Gill')"
   ]
  },
  {
   "cell_type": "markdown",
   "id": "dd48e957-f6ff-4645-970f-d8dc19cda1d8",
   "metadata": {},
   "source": [
    "# Exercise 3 : eval()"
   ]
  },
  {
   "cell_type": "code",
   "execution_count": 8,
   "id": "9ee37df2-e26c-49e2-a9b7-0e7484e9ab66",
   "metadata": {},
   "outputs": [
    {
     "data": {
      "text/plain": [
       "17"
      ]
     },
     "execution_count": 8,
     "metadata": {},
     "output_type": "execute_result"
    }
   ],
   "source": [
    "eval(\"3 * 5 + 2\")"
   ]
  },
  {
   "cell_type": "markdown",
   "id": "d9d976c8-22a3-4976-b30b-3e3752def081",
   "metadata": {},
   "source": [
    "# Exercise 4 : prime filter()"
   ]
  },
  {
   "cell_type": "code",
   "execution_count": 20,
   "id": "deb846aa-5f99-4538-8455-7be2bad3f4f6",
   "metadata": {},
   "outputs": [
    {
     "name": "stdout",
     "output_type": "stream",
     "text": [
      "Prime numbers: [3, 7, 19, 23, 31]\n"
     ]
    }
   ],
   "source": [
    "def is_prime(n):\n",
    "    if n < 2:\n",
    "        return False\n",
    "    for i in range(2, n):\n",
    "        if n % i == 0:\n",
    "            return False\n",
    "    return True\n",
    "\n",
    "numbers = [10, 15, 3, 7, 20, 19, 23, 30, 31, 40]\n",
    "\n",
    "prime_numbers = list(filter(is_prime, numbers))\n",
    "\n",
    "print(\"Prime numbers:\", prime_numbers)"
   ]
  },
  {
   "cell_type": "markdown",
   "id": "27e10328-3cc6-4eb6-8347-6b74f83fc327",
   "metadata": {},
   "source": [
    "# Exrecise 5 : UCASE map()"
   ]
  },
  {
   "cell_type": "code",
   "execution_count": 37,
   "id": "012e463b-eff4-4b4b-81fc-ab9bdbfb7ac8",
   "metadata": {},
   "outputs": [
    {
     "name": "stdout",
     "output_type": "stream",
     "text": [
      "KING\n",
      "KOHLI\n",
      "CAPTAIN\n",
      "DHONI\n"
     ]
    }
   ],
   "source": [
    "list1 =['king','kohli','captain','dhoni']\n",
    "UCASE = list(map(str.upper,list1))\n",
    "\n",
    "for i in UCASE:\n",
    "    print(i)"
   ]
  },
  {
   "cell_type": "code",
   "execution_count": null,
   "id": "a70b47fb-3202-4169-9b13-116f642e194b",
   "metadata": {},
   "outputs": [],
   "source": []
  }
 ],
 "metadata": {
  "kernelspec": {
   "display_name": "Python [conda env:base] *",
   "language": "python",
   "name": "conda-base-py"
  },
  "language_info": {
   "codemirror_mode": {
    "name": "ipython",
    "version": 3
   },
   "file_extension": ".py",
   "mimetype": "text/x-python",
   "name": "python",
   "nbconvert_exporter": "python",
   "pygments_lexer": "ipython3",
   "version": "3.12.7"
  }
 },
 "nbformat": 4,
 "nbformat_minor": 5
}
