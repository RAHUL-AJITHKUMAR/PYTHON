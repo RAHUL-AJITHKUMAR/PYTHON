{
 "cells": [
  {
   "cell_type": "markdown",
   "id": "00a8f828-20c8-45bd-b5ea-471d1ee44b28",
   "metadata": {},
   "source": [
    "# Exercise 1\n",
    "# Month Name"
   ]
  },
  {
   "cell_type": "code",
   "execution_count": 8,
   "id": "5dd558ab-395f-4706-8602-4747f87c6804",
   "metadata": {},
   "outputs": [
    {
     "name": "stdin",
     "output_type": "stream",
     "text": [
      "Enter Month Number: 12\n"
     ]
    },
    {
     "name": "stdout",
     "output_type": "stream",
     "text": [
      "Month 12 is : December\n"
     ]
    }
   ],
   "source": [
    "import calendar\n",
    "\n",
    "month_number = int(input(\"Enter Month Number:\"))\n",
    "print(f\"Month {month_number} is : {calendar.month_name[month_number]}\")"
   ]
  },
  {
   "cell_type": "markdown",
   "id": "a8b2b8b9-86a0-4dee-b6ac-31fe009e2e6e",
   "metadata": {},
   "source": [
    "\n",
    "# Exercise 2 - Ticket Prize distribution\n"
   ]
  },
  {
   "cell_type": "code",
   "execution_count": 23,
   "id": "57f71d8c-66ef-42c8-93b8-b2699a6441df",
   "metadata": {},
   "outputs": [
    {
     "name": "stdin",
     "output_type": "stream",
     "text": [
      "Enter Your age 10\n"
     ]
    },
    {
     "name": "stdout",
     "output_type": "stream",
     "text": [
      "Your ticket costs  £3.00\n"
     ]
    }
   ],
   "source": [
    "    age = int(input(\"Enter Your age\"))\n",
    "    if age < 16:\n",
    "        print(\"Your ticket costs  £3.00\")\n",
    "    elif age > 60:\n",
    "        print(\"Your ticket costs  £2.00\") \n",
    "    else:\n",
    "        print(\"Your ticket costs  £6.00\")\n"
   ]
  },
  {
   "cell_type": "markdown",
   "id": "52a1dfde-0db9-4f4d-be58-4c1bcff7aea4",
   "metadata": {},
   "source": [
    "# Exercise 3 \n",
    "# BODY MASS INDEX"
   ]
  },
  {
   "cell_type": "code",
   "execution_count": 29,
   "id": "91377617-f6db-4c0d-9487-b3e4a46ecb91",
   "metadata": {},
   "outputs": [
    {
     "name": "stdin",
     "output_type": "stream",
     "text": [
      "Enter your weight in (kg) 52\n",
      "Enter your height in (kg) 1.4\n"
     ]
    },
    {
     "name": "stdout",
     "output_type": "stream",
     "text": [
      "You are in the “Overweight” range\n"
     ]
    }
   ],
   "source": [
    "w=float(input(\"Enter your weight in (kg)\"))\n",
    "h=float(input(\"Enter your height in (kg)\"))\n",
    "bmi=w/h**2 \n",
    "if bmi < 18.5:\n",
    "    print('You are in the “Underweight” range')\n",
    "elif bmi < 24.9:\n",
    "    print('You are in the “Normal” range')\n",
    "elif bmi< 29.9:\n",
    "    print('You are in the “Overweight” range')\n",
    "else:\n",
    "    print('You are in the “Obese” range')\n"
   ]
  },
  {
   "cell_type": "markdown",
   "id": "55c47078-1d33-4c60-bcd1-9246c3d12adc",
   "metadata": {},
   "source": [
    "# Exercise 4 - Greatest of three "
   ]
  },
  {
   "cell_type": "code",
   "execution_count": 36,
   "id": "09c60cba-e4ab-4754-8cc4-83d0e51c04a7",
   "metadata": {},
   "outputs": [
    {
     "name": "stdin",
     "output_type": "stream",
     "text": [
      "Enter first number 15\n",
      "Enter second number 16\n",
      "Enter third number 17\n"
     ]
    },
    {
     "name": "stdout",
     "output_type": "stream",
     "text": [
      "The largest number is 17\n"
     ]
    }
   ],
   "source": [
    "num1 = input(\"Enter first number\")\n",
    "num2 = input(\"Enter second number\")\n",
    "num3 = input(\"Enter third number\")\n",
    "\n",
    "if (num1 >= num2) and (num1 >= num3):\n",
    "   greatest = num1\n",
    "elif (num2 >= num1) and (num2 >= num3):\n",
    "   greatest = num2\n",
    "else:\n",
    "   greatest = num3\n",
    "\n",
    "print(\"The largest number is\", greatest)"
   ]
  },
  {
   "cell_type": "markdown",
   "id": "c84e8227-6818-4ac9-bb5d-967ee8c1adb9",
   "metadata": {},
   "source": [
    "# Exercise 5 - FACTORIAL"
   ]
  },
  {
   "cell_type": "code",
   "execution_count": 48,
   "id": "37c07dcd-469c-4018-a1d3-c8588dcb4efb",
   "metadata": {},
   "outputs": [
    {
     "name": "stdin",
     "output_type": "stream",
     "text": [
      "Enter a number -1\n"
     ]
    },
    {
     "name": "stdout",
     "output_type": "stream",
     "text": [
      "No factorial for negative numbers\n"
     ]
    }
   ],
   "source": [
    "num = int(input(\"Enter a number\"))\n",
    "fact = 1\n",
    "if num < 0:\n",
    "    print(\"No factorial for negative numbers\")\n",
    "elif num == 0:\n",
    "    print(\"The factorial of 0 is 1\")\n",
    "else:\n",
    "    for i in range(1,num+1):\n",
    "        fact=fact*i\n",
    "    print(\"The factorial of\",num,\"is\",fact)\n",
    "    "
   ]
  },
  {
   "cell_type": "markdown",
   "id": "d38748cd-cf9e-489c-bc9c-183d9ef1d7e8",
   "metadata": {},
   "source": [
    "# Exercise 6 - REVERSE of number"
   ]
  },
  {
   "cell_type": "code",
   "execution_count": 22,
   "id": "afb95af9-0a35-4091-b23c-3d640c01b078",
   "metadata": {},
   "outputs": [
    {
     "name": "stdin",
     "output_type": "stream",
     "text": [
      "enter a number 12\n"
     ]
    },
    {
     "name": "stdout",
     "output_type": "stream",
     "text": [
      "21\n"
     ]
    }
   ],
   "source": [
    "n=int(input(\"enter a number\"))\n",
    "rev=0\n",
    "while(n>0):\n",
    "    last=n%10\n",
    "    rev=rev*10+last\n",
    "    n=int(n/10)\n",
    "print(rev)"
   ]
  },
  {
   "cell_type": "markdown",
   "id": "d4e35344-719b-49e6-b282-b749d8d57935",
   "metadata": {},
   "source": [
    "# Exercise 7 - Multiples of number"
   ]
  },
  {
   "cell_type": "code",
   "execution_count": 38,
   "id": "a2e1cbe4-0e5e-4955-a3dc-ea850ef3d77a",
   "metadata": {},
   "outputs": [
    {
     "name": "stdin",
     "output_type": "stream",
     "text": [
      "Enter your number : 4\n",
      "Enter number of multiples required : 3\n"
     ]
    },
    {
     "name": "stdout",
     "output_type": "stream",
     "text": [
      "First 3 Multiples of 4 are :\n",
      "4\n",
      "8\n",
      "12\n"
     ]
    }
   ],
   "source": [
    "x = int(input(\"Enter your number :\"))\n",
    "count = int(input(\"Enter number of multiples required :\"))\n",
    "print(\"First\",count,\"Multiples of\",x,\"are :\")\n",
    "for i in range(1,count+1):\n",
    "    y = x*i\n",
    "    print(y)"
   ]
  },
  {
   "cell_type": "markdown",
   "id": "2d161329-444a-4c7e-a82b-8d4ce7aaa20d",
   "metadata": {},
   "source": [
    "# Exercise 8 - Break done"
   ]
  },
  {
   "cell_type": "code",
   "execution_count": 52,
   "id": "6232134e-089e-4706-bb59-8c9f66329a12",
   "metadata": {
    "collapsed": true,
    "jupyter": {
     "outputs_hidden": true
    },
    "scrolled": true
   },
   "outputs": [
    {
     "name": "stdin",
     "output_type": "stream",
     "text": [
      "Enter a value hi\n"
     ]
    },
    {
     "name": "stdout",
     "output_type": "stream",
     "text": [
      "hi\n"
     ]
    },
    {
     "name": "stdin",
     "output_type": "stream",
     "text": [
      "Enter a value bye\n"
     ]
    },
    {
     "name": "stdout",
     "output_type": "stream",
     "text": [
      "bye\n"
     ]
    },
    {
     "name": "stdin",
     "output_type": "stream",
     "text": [
      "Enter a value rahul\n"
     ]
    },
    {
     "name": "stdout",
     "output_type": "stream",
     "text": [
      "rahul\n"
     ]
    },
    {
     "name": "stdin",
     "output_type": "stream",
     "text": [
      "Enter a value done\n"
     ]
    }
   ],
   "source": [
    "while True:\n",
    "    txt = input(\"Enter a value\")\n",
    "    if txt == 'done':\n",
    "        break\n",
    "    else:\n",
    "        print(txt)"
   ]
  },
  {
   "cell_type": "markdown",
   "id": "105d7764-1cf5-45af-84f1-158921dabf18",
   "metadata": {},
   "source": [
    "# Exercise 9 - FizzBuzz"
   ]
  },
  {
   "cell_type": "code",
   "execution_count": 44,
   "id": "65014dc0-97d5-450e-b415-1795b1dff226",
   "metadata": {},
   "outputs": [
    {
     "name": "stdout",
     "output_type": "stream",
     "text": [
      "1\n",
      "2\n",
      "Fizz\n",
      "4\n",
      "Buzz\n",
      "Fizz\n",
      "7\n",
      "8\n",
      "Fizz\n",
      "Buzz\n"
     ]
    }
   ],
   "source": [
    "for i in range(1,11):\n",
    "    if i%15 == 0:\n",
    "        print('FizzBuzz')\n",
    "    elif i%3 == 0:\n",
    "        print('Fizz')\n",
    "    elif i%5 == 0:\n",
    "        print('Buzz')\n",
    "    else:\n",
    "        print(i)"
   ]
  },
  {
   "cell_type": "markdown",
   "id": "f686664d-e254-4a1e-b580-3033248e7940",
   "metadata": {},
   "source": [
    "# Exercise 10 - Pattern"
   ]
  },
  {
   "cell_type": "code",
   "execution_count": 49,
   "id": "7b200514-7e3b-4f41-9953-b129a73a155f",
   "metadata": {},
   "outputs": [
    {
     "name": "stdout",
     "output_type": "stream",
     "text": [
      "5 4 3 2 1 \n",
      "4 3 2 1 \n",
      "3 2 1 \n",
      "2 1 \n",
      "1 \n"
     ]
    }
   ],
   "source": [
    "n = 5\n",
    "for i in range(n):\n",
    "    for j in range(n-i-1,-1,-1):\n",
    "        print(j+1,end=\" \")\n",
    "    print()"
   ]
  },
  {
   "cell_type": "code",
   "execution_count": null,
   "id": "76691e0b-9f96-40c9-adbe-f5e82767217a",
   "metadata": {},
   "outputs": [],
   "source": []
  }
 ],
 "metadata": {
  "kernelspec": {
   "display_name": "Python [conda env:base] *",
   "language": "python",
   "name": "conda-base-py"
  },
  "language_info": {
   "codemirror_mode": {
    "name": "ipython",
    "version": 3
   },
   "file_extension": ".py",
   "mimetype": "text/x-python",
   "name": "python",
   "nbconvert_exporter": "python",
   "pygments_lexer": "ipython3",
   "version": "3.12.7"
  }
 },
 "nbformat": 4,
 "nbformat_minor": 5
}
