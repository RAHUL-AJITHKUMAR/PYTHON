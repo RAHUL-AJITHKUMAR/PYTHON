{
 "cells": [
  {
   "cell_type": "markdown",
   "id": "d16521c9-d3b4-411f-a124-f206782774c8",
   "metadata": {},
   "source": [
    "# LIST"
   ]
  },
  {
   "cell_type": "code",
   "execution_count": 2,
   "id": "60beaf8c-19a0-4dcd-aa98-0f1ae3b4943c",
   "metadata": {},
   "outputs": [
    {
     "name": "stdout",
     "output_type": "stream",
     "text": [
      "The list is: [8, 15, 22, 6, 99]\n",
      "The updated list is: [8, 15, 22, 6, 99, 11, 22, 33]\n",
      "8\n",
      "15\n",
      "22\n",
      "6\n",
      "99\n",
      "11\n",
      "22\n",
      "33\n"
     ]
    }
   ],
   "source": [
    "RAND_NO = [8,15,22,6,99]\n",
    "print(\"The list is:\",RAND_NO)\n",
    "RAND_NO[5:5]=[11,22,33]\n",
    "print(\"The updated list is:\",RAND_NO)\n",
    "for i in RAND_NO:\n",
    "    print(i)"
   ]
  },
  {
   "cell_type": "markdown",
   "id": "c3e14ae9-dac6-4fb1-980d-7717e825c531",
   "metadata": {},
   "source": [
    "# DICTIONARY"
   ]
  },
  {
   "cell_type": "code",
   "execution_count": 17,
   "id": "19de8935-b361-4d83-94ac-6007bba74461",
   "metadata": {},
   "outputs": [
    {
     "name": "stdout",
     "output_type": "stream",
     "text": [
      "The Dictionary of new candidate is: {'name': 'John', 'age': 28, 'address': 'New York'}\n",
      "<class 'dict'>\n",
      "The Dictionary of new candidate after updation is: {'name': 'John', 'age': 28, 'address': 'New York', 'phone': 1234567890}\n"
     ]
    }
   ],
   "source": [
    "CANDIDTATE = {'name':'John', 'age':28, 'address':'New York'}\n",
    "print('The Dictionary of new candidate is:',CANDIDTATE)\n",
    "print(type(CANDIDTATE))\n",
    "CANDIDTATE['phone'] = 1234567890\n",
    "print('The Dictionary of new candidate after updation is:',CANDIDTATE)"
   ]
  },
  {
   "cell_type": "markdown",
   "id": "97660fad-e2a5-4101-9217-ce03e2d19c29",
   "metadata": {},
   "source": [
    "# SET"
   ]
  },
  {
   "cell_type": "code",
   "execution_count": 22,
   "id": "d74e2bfb-6fa0-4845-812a-42ca4de0886e",
   "metadata": {},
   "outputs": [
    {
     "name": "stdout",
     "output_type": "stream",
     "text": [
      "The set is: {1, 2, 3, 4, 5}\n",
      "The updated set is: {1, 2, 3, 4, 5, 6}\n",
      "The set after removal is: {1, 2, 4, 5, 6}\n"
     ]
    }
   ],
   "source": [
    "SET = {1,2,3,4,5}\n",
    "print('The set is:',SET)\n",
    "SET.add(6)\n",
    "print('The updated set is:',SET)\n",
    "SET.remove(3)\n",
    "print('The set after removal is:',SET)\n"
   ]
  },
  {
   "cell_type": "markdown",
   "id": "cc8ce331-c9e7-4454-8f64-ddfe1d506495",
   "metadata": {},
   "source": [
    "# TUPLE"
   ]
  },
  {
   "cell_type": "code",
   "execution_count": 28,
   "id": "7faf95f3-0ed6-436d-865d-b2dda61c6eed",
   "metadata": {},
   "outputs": [
    {
     "name": "stdout",
     "output_type": "stream",
     "text": [
      "<class 'tuple'>\n",
      "4\n"
     ]
    }
   ],
   "source": [
    "Tuple =(1,2,3,4)\n",
    "print(type(Tuple))\n",
    "print(len(Tuple))"
   ]
  },
  {
   "cell_type": "code",
   "execution_count": null,
   "id": "b2b12986-8380-4bab-82d3-6df9685d30c7",
   "metadata": {},
   "outputs": [],
   "source": []
  }
 ],
 "metadata": {
  "kernelspec": {
   "display_name": "Python [conda env:base] *",
   "language": "python",
   "name": "conda-base-py"
  },
  "language_info": {
   "codemirror_mode": {
    "name": "ipython",
    "version": 3
   },
   "file_extension": ".py",
   "mimetype": "text/x-python",
   "name": "python",
   "nbconvert_exporter": "python",
   "pygments_lexer": "ipython3",
   "version": "3.12.7"
  }
 },
 "nbformat": 4,
 "nbformat_minor": 5
}
