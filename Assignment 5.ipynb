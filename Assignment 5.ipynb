{
 "cells": [
  {
   "cell_type": "markdown",
   "id": "a401a83f-3300-45fd-aa98-dd762485bbe2",
   "metadata": {},
   "source": [
    "# EXERCISE 1 - READ"
   ]
  },
  {
   "cell_type": "code",
   "execution_count": 6,
   "id": "73060bf1-448d-4b7b-a1c9-67fa50320446",
   "metadata": {},
   "outputs": [
    {
     "name": "stdout",
     "output_type": "stream",
     "text": [
      "Pakistan were the defending champions and were eliminated in the group stage. India became the champions by defeating New Zealand in the final and also became the first team to win three Champions Trophy titles.\n"
     ]
    }
   ],
   "source": [
    "with open('C:/Users/Ajith/Downloads/Read demo.txt', 'r') as file:\n",
    "            contents = file.read()\n",
    "            print(contents)"
   ]
  },
  {
   "cell_type": "markdown",
   "id": "8ae64946-770d-4a3f-b3a1-7ee8d7730a2f",
   "metadata": {},
   "source": [
    "# EXERCISE 2 - WRITE"
   ]
  },
  {
   "cell_type": "code",
   "execution_count": null,
   "id": "2d18ed8d-85d1-4ad4-9239-66b582570d07",
   "metadata": {
    "scrolled": true
   },
   "outputs": [],
   "source": [
    "with open('C:/Users/Ajith/Downloads/Copy demo.txt', 'r') as sc, open('C:/Users/Ajith/Downloads/Read demo.txt', 'w') as dt:\n",
    "        dt.write(sc.read())\n",
    "        "
   ]
  },
  {
   "cell_type": "markdown",
   "id": "6cdee444-8e5e-4b14-a27a-0dd32c0d4f8d",
   "metadata": {},
   "source": [
    "# EXERCISE 3 - READ COUNT"
   ]
  },
  {
   "cell_type": "code",
   "execution_count": 2,
   "id": "e870fd43-756e-4060-a6e4-d5d0b7bdd0f0",
   "metadata": {},
   "outputs": [
    {
     "name": "stdout",
     "output_type": "stream",
     "text": [
      "326\n"
     ]
    }
   ],
   "source": [
    "with open('C:/Users/Ajith/Downloads/Copy demo.txt', 'r') as file:\n",
    "        contents = file.read()\n",
    "        words = contents.split()\n",
    "        print(len(words))"
   ]
  },
  {
   "cell_type": "markdown",
   "id": "c1d93ce4-bb62-4817-a71f-94940bf108bb",
   "metadata": {},
   "source": [
    "#  EXERCISE 4 - STRING TO INT"
   ]
  },
  {
   "cell_type": "code",
   "execution_count": 24,
   "id": "fb39041c-285c-4a94-b3da-f7b8c6e0efb0",
   "metadata": {},
   "outputs": [
    {
     "name": "stdin",
     "output_type": "stream",
     "text": [
      "Enter a string to convert to an integer:  5\n"
     ]
    },
    {
     "name": "stdout",
     "output_type": "stream",
     "text": [
      "Converted integer: 5\n"
     ]
    }
   ],
   "source": [
    "def convert_to_integer(): \n",
    "    try:\n",
    "        number = int(user_input)\n",
    "        print(f\"Converted integer: {number}\")\n",
    "    except ValueError:\n",
    "        print(\"Invalid input. Please enter a valid integer.\")\n",
    "\n",
    "user_input = input(\"Enter a string to convert to an integer: \")\n",
    "convert_to_integer()"
   ]
  },
  {
   "cell_type": "markdown",
   "id": "623d12a3-ecb4-473d-9f36-71fcdf8f5d0f",
   "metadata": {},
   "source": [
    "# EXERCISE 5 - INT LIST EXCEPT -ve"
   ]
  },
  {
   "cell_type": "code",
   "execution_count": 34,
   "id": "557713bd-1a63-4aea-a947-24a180178100",
   "metadata": {},
   "outputs": [
    {
     "name": "stdin",
     "output_type": "stream",
     "text": [
      "Enter a list of integers with spaces:  as\n"
     ]
    },
    {
     "name": "stdout",
     "output_type": "stream",
     "text": [
      "Error: invalid literal for int() with base 10: 'as'\n"
     ]
    }
   ],
   "source": [
    "def check_integers():\n",
    "    try:\n",
    "        numbers = [int(num) for num in user_input.split()]\n",
    "        if any(num < 0 for num in numbers):\n",
    "            raise ValueError(\"Negative integers are not allowed.\")\n",
    "        print(\"Valid list of integers:\", numbers)\n",
    "    except ValueError as e:\n",
    "        print(f\"Error: {e}\")\n",
    "\n",
    "user_input = input(\"Enter a list of integers seperated with spaces: \")\n",
    "check_integers()"
   ]
  },
  {
   "cell_type": "markdown",
   "id": "690c8a66-89e5-4877-80b7-33716068bbde",
   "metadata": {},
   "source": [
    "# EXERCISE 6 - AVERAGE"
   ]
  },
  {
   "cell_type": "code",
   "execution_count": 50,
   "id": "5fb28677-63d4-4b00-8d80-3fa3add6c0f7",
   "metadata": {},
   "outputs": [
    {
     "name": "stdin",
     "output_type": "stream",
     "text": [
      "Enter a list of integers separated by spaces:  5 6 6 \n"
     ]
    },
    {
     "name": "stdout",
     "output_type": "stream",
     "text": [
      "Average: 5.666666666666667\n",
      "Program has finished running.\n"
     ]
    }
   ],
   "source": [
    "def compute_average():\n",
    "    try:\n",
    "        user_input = input(\"Enter a list of integers seperated with spaces: \")\n",
    "        numbers = [int(num) for num in user_input.split()]\n",
    "        average = sum(numbers) / len(numbers)\n",
    "        print(\"Average:\", average)\n",
    "    except ValueError:\n",
    "        print(\"Invalid input. Please enter integers only.\")\n",
    "    except ZeroDivisionError:\n",
    "        print(\"Cannot compute the average of an empty list.\")\n",
    "    finally:\n",
    "        print(\"Program has finished running.\")\n",
    "\n",
    "\n",
    "compute_average()"
   ]
  },
  {
   "cell_type": "markdown",
   "id": "76388db8-d809-4536-b353-2a8891f072cb",
   "metadata": {},
   "source": [
    "# EXERCISE 7 "
   ]
  },
  {
   "cell_type": "code",
   "execution_count": 60,
   "id": "3cf83991-3f94-40b8-8d81-2b020ce72ded",
   "metadata": {},
   "outputs": [
    {
     "name": "stdin",
     "output_type": "stream",
     "text": [
      "Enter the filename:  yui\n"
     ]
    },
    {
     "name": "stdout",
     "output_type": "stream",
     "text": [
      "Welcome! File written successfully.\n",
      "Program execution completed.\n"
     ]
    }
   ],
   "source": [
    "def write_to_file():\n",
    "    try:\n",
    "        filename = input(\"Enter the filename: \") \n",
    "        content = \"Hello, this is a test string written to the file.\"\n",
    "        \n",
    "        with open('C:/Users/Ajith/Downloads/rahul.txt', \"w\") as file:\n",
    "            file.write(content)\n",
    "        \n",
    "        print(\"Welcome! File written successfully.\")\n",
    "    except FileNotFoundError:\n",
    "        print(\"Error: The file path is invalid.\")\n",
    "    except Exception as e:\n",
    "        print(f\"An unexpected error occurred: {e}\")\n",
    "    finally:\n",
    "        print(\"Program execution completed.\")\n",
    "\n",
    "write_to_file()"
   ]
  },
  {
   "cell_type": "code",
   "execution_count": null,
   "id": "f87cabc4-25c5-4d38-820c-53840f290433",
   "metadata": {},
   "outputs": [],
   "source": []
  }
 ],
 "metadata": {
  "kernelspec": {
   "display_name": "Python [conda env:base] *",
   "language": "python",
   "name": "conda-base-py"
  },
  "language_info": {
   "codemirror_mode": {
    "name": "ipython",
    "version": 3
   },
   "file_extension": ".py",
   "mimetype": "text/x-python",
   "name": "python",
   "nbconvert_exporter": "python",
   "pygments_lexer": "ipython3",
   "version": "3.12.7"
  }
 },
 "nbformat": 4,
 "nbformat_minor": 5
}
