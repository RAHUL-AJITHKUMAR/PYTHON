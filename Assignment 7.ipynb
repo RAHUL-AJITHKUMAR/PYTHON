{
 "cells": [
  {
   "cell_type": "markdown",
   "id": "52625882-269a-47c1-8c99-fad13a33c48b",
   "metadata": {},
   "source": [
    "# Exercise 1 - Array creation and Reshaping"
   ]
  },
  {
   "cell_type": "code",
   "execution_count": 18,
   "id": "f953bf62-9e42-40af-83df-8242dccf7d8d",
   "metadata": {},
   "outputs": [
    {
     "name": "stdout",
     "output_type": "stream",
     "text": [
      "created array of 1 to 10 is : [ 1  2  3  4  5  6  7  8  9 10]\n",
      "reshaped array : [[ 1  2  3  4  5]\n",
      " [ 6  7  8  9 10]]\n"
     ]
    }
   ],
   "source": [
    "import numpy as np\n",
    "\n",
    "arr1 = np.arange(1, 11)\n",
    "\n",
    "print('created array of 1 to 10 is :' ,arr1)\n",
    "\n",
    "reshape_arr2 = arr1.reshape(2, 5,)\n",
    "\n",
    "print('reshaped array :' ,reshape_arr2)"
   ]
  },
  {
   "cell_type": "markdown",
   "id": "739923a3-d938-4c67-be06-654c43191dbc",
   "metadata": {},
   "source": [
    "# Exercise 2 - Element extraction"
   ]
  },
  {
   "cell_type": "code",
   "execution_count": 24,
   "id": "5994d23d-c096-408b-8e3a-76957d3f0ed5",
   "metadata": {},
   "outputs": [
    {
     "name": "stdout",
     "output_type": "stream",
     "text": [
      "Orginal array is : [ 1  2  3  4  5  6  7  8  9 10 11 12 13 14 15 16 17 18 19 20]\n",
      "The required elements are: [ 6  7  8  9 10 11 12 13 14 15]\n"
     ]
    }
   ],
   "source": [
    "arr2 = np.arange(1, 21)\n",
    "print('Orginal array is :' ,arr2)\n",
    "extracted_elements = arr2[5:15]\n",
    "\n",
    "print('The required elements are:' ,extracted_elements)"
   ]
  },
  {
   "cell_type": "markdown",
   "id": "a0365ca5-1622-46cf-a8f3-bcefbe91efcb",
   "metadata": {},
   "source": [
    "# Exercise 3 - Panda Series"
   ]
  },
  {
   "cell_type": "code",
   "execution_count": 32,
   "id": "49771304-16dd-478f-b29c-ec7a2e46f850",
   "metadata": {},
   "outputs": [
    {
     "name": "stdout",
     "output_type": "stream",
     "text": [
      "apples     3\n",
      "bananas    2\n",
      "oranges    1\n",
      "pears      4\n",
      "dtype: int64\n"
     ]
    }
   ],
   "source": [
    "import pandas as pd\n",
    "\n",
    "fruits_series = pd.Series([3,2,1],index=['apples', 'bananas', 'oranges'])\n",
    "\n",
    "fruits_series['pears'] = 4\n",
    "\n",
    "print(fruits_series)"
   ]
  },
  {
   "cell_type": "markdown",
   "id": "0d16a7ee-c61f-4954-b1dc-cccaf5764699",
   "metadata": {},
   "source": [
    "# Exercise 4 - DataFrame"
   ]
  },
  {
   "cell_type": "code",
   "execution_count": 42,
   "id": "f332a216-0b50-4a6b-b8fe-9fdbbbb60fec",
   "metadata": {},
   "outputs": [
    {
     "data": {
      "text/html": [
       "<div>\n",
       "<style scoped>\n",
       "    .dataframe tbody tr th:only-of-type {\n",
       "        vertical-align: middle;\n",
       "    }\n",
       "\n",
       "    .dataframe tbody tr th {\n",
       "        vertical-align: top;\n",
       "    }\n",
       "\n",
       "    .dataframe thead th {\n",
       "        text-align: right;\n",
       "    }\n",
       "</style>\n",
       "<table border=\"1\" class=\"dataframe\">\n",
       "  <thead>\n",
       "    <tr style=\"text-align: right;\">\n",
       "      <th></th>\n",
       "      <th>Name</th>\n",
       "      <th>Age</th>\n",
       "      <th>Gender</th>\n",
       "    </tr>\n",
       "  </thead>\n",
       "  <tbody>\n",
       "    <tr>\n",
       "      <th>0</th>\n",
       "      <td>Virat Kohli</td>\n",
       "      <td>35</td>\n",
       "      <td>Male</td>\n",
       "    </tr>\n",
       "    <tr>\n",
       "      <th>1</th>\n",
       "      <td>MS Dhoni</td>\n",
       "      <td>42</td>\n",
       "      <td>Male</td>\n",
       "    </tr>\n",
       "    <tr>\n",
       "      <th>2</th>\n",
       "      <td>Sachin Tendulkar</td>\n",
       "      <td>50</td>\n",
       "      <td>Male</td>\n",
       "    </tr>\n",
       "    <tr>\n",
       "      <th>3</th>\n",
       "      <td>Smriti Mandhana</td>\n",
       "      <td>27</td>\n",
       "      <td>Female</td>\n",
       "    </tr>\n",
       "    <tr>\n",
       "      <th>4</th>\n",
       "      <td>Meg Lanning</td>\n",
       "      <td>32</td>\n",
       "      <td>Female</td>\n",
       "    </tr>\n",
       "    <tr>\n",
       "      <th>5</th>\n",
       "      <td>Shafali Verma</td>\n",
       "      <td>20</td>\n",
       "      <td>Female</td>\n",
       "    </tr>\n",
       "    <tr>\n",
       "      <th>6</th>\n",
       "      <td>Jasprit Bumrah</td>\n",
       "      <td>30</td>\n",
       "      <td>Male</td>\n",
       "    </tr>\n",
       "    <tr>\n",
       "      <th>7</th>\n",
       "      <td>Kane Williamson</td>\n",
       "      <td>33</td>\n",
       "      <td>Male</td>\n",
       "    </tr>\n",
       "    <tr>\n",
       "      <th>8</th>\n",
       "      <td>Beth Mooney</td>\n",
       "      <td>30</td>\n",
       "      <td>Female</td>\n",
       "    </tr>\n",
       "    <tr>\n",
       "      <th>9</th>\n",
       "      <td>Alyssa Healy</td>\n",
       "      <td>34</td>\n",
       "      <td>Female</td>\n",
       "    </tr>\n",
       "  </tbody>\n",
       "</table>\n",
       "</div>"
      ],
      "text/plain": [
       "               Name  Age  Gender\n",
       "0       Virat Kohli   35    Male\n",
       "1          MS Dhoni   42    Male\n",
       "2  Sachin Tendulkar   50    Male\n",
       "3   Smriti Mandhana   27  Female\n",
       "4       Meg Lanning   32  Female\n",
       "5     Shafali Verma   20  Female\n",
       "6    Jasprit Bumrah   30    Male\n",
       "7   Kane Williamson   33    Male\n",
       "8       Beth Mooney   30  Female\n",
       "9      Alyssa Healy   34  Female"
      ]
     },
     "execution_count": 42,
     "metadata": {},
     "output_type": "execute_result"
    }
   ],
   "source": [
    "df1 = pd.DataFrame([['Virat Kohli', 35, 'Male'],['MS Dhoni', 42, 'Male'],['Sachin Tendulkar', 50, 'Male'],['Smriti Mandhana', 27, 'Female'],['Meg Lanning', 32, 'Female'],\n",
    "                    ['Shafali Verma', 20, 'Female'],['Jasprit Bumrah', 30, 'Male'],['Kane Williamson', 33, 'Male'],['Beth Mooney', 30, 'Female'],['Alyssa Healy', 34, 'Female']],\n",
    "                   columns=['Name','Age','Gender'])\n",
    "df1\n",
    "                   "
   ]
  },
  {
   "cell_type": "markdown",
   "id": "f130b81e-7493-4506-94c7-4ca639528fa6",
   "metadata": {},
   "source": [
    "# Exercise 5 - Adding Column to DataFrame"
   ]
  },
  {
   "cell_type": "code",
   "execution_count": 44,
   "id": "14912f53-40bb-431b-a6f3-107b1417bb38",
   "metadata": {},
   "outputs": [
    {
     "data": {
      "text/html": [
       "<div>\n",
       "<style scoped>\n",
       "    .dataframe tbody tr th:only-of-type {\n",
       "        vertical-align: middle;\n",
       "    }\n",
       "\n",
       "    .dataframe tbody tr th {\n",
       "        vertical-align: top;\n",
       "    }\n",
       "\n",
       "    .dataframe thead th {\n",
       "        text-align: right;\n",
       "    }\n",
       "</style>\n",
       "<table border=\"1\" class=\"dataframe\">\n",
       "  <thead>\n",
       "    <tr style=\"text-align: right;\">\n",
       "      <th></th>\n",
       "      <th>Name</th>\n",
       "      <th>Age</th>\n",
       "      <th>Gender</th>\n",
       "      <th>Occupation</th>\n",
       "    </tr>\n",
       "  </thead>\n",
       "  <tbody>\n",
       "    <tr>\n",
       "      <th>0</th>\n",
       "      <td>Virat Kohli</td>\n",
       "      <td>35</td>\n",
       "      <td>Male</td>\n",
       "      <td>Programmer</td>\n",
       "    </tr>\n",
       "    <tr>\n",
       "      <th>1</th>\n",
       "      <td>MS Dhoni</td>\n",
       "      <td>42</td>\n",
       "      <td>Male</td>\n",
       "      <td>Manager</td>\n",
       "    </tr>\n",
       "    <tr>\n",
       "      <th>2</th>\n",
       "      <td>Sachin Tendulkar</td>\n",
       "      <td>50</td>\n",
       "      <td>Male</td>\n",
       "      <td>Analyst</td>\n",
       "    </tr>\n",
       "    <tr>\n",
       "      <th>3</th>\n",
       "      <td>Smriti Mandhana</td>\n",
       "      <td>27</td>\n",
       "      <td>Female</td>\n",
       "      <td>Programmer</td>\n",
       "    </tr>\n",
       "    <tr>\n",
       "      <th>4</th>\n",
       "      <td>Meg Lanning</td>\n",
       "      <td>32</td>\n",
       "      <td>Female</td>\n",
       "      <td>Manager</td>\n",
       "    </tr>\n",
       "    <tr>\n",
       "      <th>5</th>\n",
       "      <td>Shafali Verma</td>\n",
       "      <td>20</td>\n",
       "      <td>Female</td>\n",
       "      <td>Analyst</td>\n",
       "    </tr>\n",
       "    <tr>\n",
       "      <th>6</th>\n",
       "      <td>Jasprit Bumrah</td>\n",
       "      <td>30</td>\n",
       "      <td>Male</td>\n",
       "      <td>Programmer</td>\n",
       "    </tr>\n",
       "    <tr>\n",
       "      <th>7</th>\n",
       "      <td>Kane Williamson</td>\n",
       "      <td>33</td>\n",
       "      <td>Male</td>\n",
       "      <td>Manager</td>\n",
       "    </tr>\n",
       "    <tr>\n",
       "      <th>8</th>\n",
       "      <td>Beth Mooney</td>\n",
       "      <td>30</td>\n",
       "      <td>Female</td>\n",
       "      <td>Analyst</td>\n",
       "    </tr>\n",
       "    <tr>\n",
       "      <th>9</th>\n",
       "      <td>Alyssa Healy</td>\n",
       "      <td>34</td>\n",
       "      <td>Female</td>\n",
       "      <td>Manager</td>\n",
       "    </tr>\n",
       "  </tbody>\n",
       "</table>\n",
       "</div>"
      ],
      "text/plain": [
       "               Name  Age  Gender  Occupation\n",
       "0       Virat Kohli   35    Male  Programmer\n",
       "1          MS Dhoni   42    Male     Manager\n",
       "2  Sachin Tendulkar   50    Male     Analyst\n",
       "3   Smriti Mandhana   27  Female  Programmer\n",
       "4       Meg Lanning   32  Female     Manager\n",
       "5     Shafali Verma   20  Female     Analyst\n",
       "6    Jasprit Bumrah   30    Male  Programmer\n",
       "7   Kane Williamson   33    Male     Manager\n",
       "8       Beth Mooney   30  Female     Analyst\n",
       "9      Alyssa Healy   34  Female     Manager"
      ]
     },
     "execution_count": 44,
     "metadata": {},
     "output_type": "execute_result"
    }
   ],
   "source": [
    "df1['Occupation']=['Programmer', 'Manager','Analyst','Programmer', 'Manager','Analyst','Programmer', 'Manager','Analyst','Manager']\n",
    "df1"
   ]
  },
  {
   "cell_type": "markdown",
   "id": "52b98541-b8d7-431c-986c-ca86adf6783b",
   "metadata": {},
   "source": [
    "# Exercise 6 - Age Filter in DataFrame"
   ]
  },
  {
   "cell_type": "code",
   "execution_count": 48,
   "id": "7c22fa11-d7d0-4b45-87ef-f8bcd1d1a9f7",
   "metadata": {},
   "outputs": [
    {
     "data": {
      "text/html": [
       "<div>\n",
       "<style scoped>\n",
       "    .dataframe tbody tr th:only-of-type {\n",
       "        vertical-align: middle;\n",
       "    }\n",
       "\n",
       "    .dataframe tbody tr th {\n",
       "        vertical-align: top;\n",
       "    }\n",
       "\n",
       "    .dataframe thead th {\n",
       "        text-align: right;\n",
       "    }\n",
       "</style>\n",
       "<table border=\"1\" class=\"dataframe\">\n",
       "  <thead>\n",
       "    <tr style=\"text-align: right;\">\n",
       "      <th></th>\n",
       "      <th>Name</th>\n",
       "      <th>Age</th>\n",
       "      <th>Gender</th>\n",
       "      <th>Occupation</th>\n",
       "    </tr>\n",
       "  </thead>\n",
       "  <tbody>\n",
       "    <tr>\n",
       "      <th>0</th>\n",
       "      <td>Virat Kohli</td>\n",
       "      <td>35</td>\n",
       "      <td>Male</td>\n",
       "      <td>Programmer</td>\n",
       "    </tr>\n",
       "    <tr>\n",
       "      <th>1</th>\n",
       "      <td>MS Dhoni</td>\n",
       "      <td>42</td>\n",
       "      <td>Male</td>\n",
       "      <td>Manager</td>\n",
       "    </tr>\n",
       "    <tr>\n",
       "      <th>2</th>\n",
       "      <td>Sachin Tendulkar</td>\n",
       "      <td>50</td>\n",
       "      <td>Male</td>\n",
       "      <td>Analyst</td>\n",
       "    </tr>\n",
       "    <tr>\n",
       "      <th>4</th>\n",
       "      <td>Meg Lanning</td>\n",
       "      <td>32</td>\n",
       "      <td>Female</td>\n",
       "      <td>Manager</td>\n",
       "    </tr>\n",
       "    <tr>\n",
       "      <th>6</th>\n",
       "      <td>Jasprit Bumrah</td>\n",
       "      <td>30</td>\n",
       "      <td>Male</td>\n",
       "      <td>Programmer</td>\n",
       "    </tr>\n",
       "    <tr>\n",
       "      <th>7</th>\n",
       "      <td>Kane Williamson</td>\n",
       "      <td>33</td>\n",
       "      <td>Male</td>\n",
       "      <td>Manager</td>\n",
       "    </tr>\n",
       "    <tr>\n",
       "      <th>8</th>\n",
       "      <td>Beth Mooney</td>\n",
       "      <td>30</td>\n",
       "      <td>Female</td>\n",
       "      <td>Analyst</td>\n",
       "    </tr>\n",
       "    <tr>\n",
       "      <th>9</th>\n",
       "      <td>Alyssa Healy</td>\n",
       "      <td>34</td>\n",
       "      <td>Female</td>\n",
       "      <td>Manager</td>\n",
       "    </tr>\n",
       "  </tbody>\n",
       "</table>\n",
       "</div>"
      ],
      "text/plain": [
       "               Name  Age  Gender  Occupation\n",
       "0       Virat Kohli   35    Male  Programmer\n",
       "1          MS Dhoni   42    Male     Manager\n",
       "2  Sachin Tendulkar   50    Male     Analyst\n",
       "4       Meg Lanning   32  Female     Manager\n",
       "6    Jasprit Bumrah   30    Male  Programmer\n",
       "7   Kane Williamson   33    Male     Manager\n",
       "8       Beth Mooney   30  Female     Analyst\n",
       "9      Alyssa Healy   34  Female     Manager"
      ]
     },
     "execution_count": 48,
     "metadata": {},
     "output_type": "execute_result"
    }
   ],
   "source": [
    "df2_age = df1[df1['Age'] >= 30]\n",
    "df2_age"
   ]
  },
  {
   "cell_type": "markdown",
   "id": "5d932dbe-4320-4749-b29c-07395efebf56",
   "metadata": {},
   "source": [
    "# Exercise 7 - DataFrame --> CSV --> Read & Display"
   ]
  },
  {
   "cell_type": "code",
   "execution_count": 54,
   "id": "dbc56587-8092-4ce2-ac78-43d0aab314d2",
   "metadata": {},
   "outputs": [
    {
     "name": "stdout",
     "output_type": "stream",
     "text": [
      "               Name  Age  Gender  Occupation\n",
      "0       Virat Kohli   35    Male  Programmer\n",
      "1          MS Dhoni   42    Male     Manager\n",
      "2  Sachin Tendulkar   50    Male     Analyst\n",
      "3   Smriti Mandhana   27  Female  Programmer\n",
      "4       Meg Lanning   32  Female     Manager\n",
      "5     Shafali Verma   20  Female     Analyst\n",
      "6    Jasprit Bumrah   30    Male  Programmer\n",
      "7   Kane Williamson   33    Male     Manager\n",
      "8       Beth Mooney   30  Female     Analyst\n",
      "9      Alyssa Healy   34  Female     Manager\n"
     ]
    }
   ],
   "source": [
    "df1.to_csv('dataframe.csv', index=False)\n",
    "\n",
    "df_read = pd.read_csv('dataframe.csv')\n",
    "\n",
    "print(df_read)"
   ]
  }
 ],
 "metadata": {
  "kernelspec": {
   "display_name": "Python [conda env:base] *",
   "language": "python",
   "name": "conda-base-py"
  },
  "language_info": {
   "codemirror_mode": {
    "name": "ipython",
    "version": 3
   },
   "file_extension": ".py",
   "mimetype": "text/x-python",
   "name": "python",
   "nbconvert_exporter": "python",
   "pygments_lexer": "ipython3",
   "version": "3.12.7"
  }
 },
 "nbformat": 4,
 "nbformat_minor": 5
}
