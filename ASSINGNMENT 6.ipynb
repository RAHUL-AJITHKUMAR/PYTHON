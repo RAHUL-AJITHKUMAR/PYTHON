{
 "cells": [
  {
   "cell_type": "markdown",
   "id": "ea4f628c-75aa-42e4-a233-c25fdad8dc37",
   "metadata": {},
   "source": [
    "# EXERCISE 1 - CLASS SUB-CLASS INHERITANCE"
   ]
  },
  {
   "cell_type": "code",
   "execution_count": 50,
   "id": "db7c8df7-b72b-444e-9e93-4cc97ff2b9bf",
   "metadata": {},
   "outputs": [
    {
     "name": "stdout",
     "output_type": "stream",
     "text": [
      "CS101: Introduction to Computer Science (3 credit hours) - Required for major\n",
      "ART202: Modern Art History (2 credit hours) - Elective Type: liberal arts\n"
     ]
    }
   ],
   "source": [
    "class Course:\n",
    "    def __init__(self, course_code, course_name, credit_hours):\n",
    "        self.course_code = course_code\n",
    "        self.course_name = course_name\n",
    "        self.credit_hours = credit_hours\n",
    "\n",
    "    def __str__(self):\n",
    "        return f\"{self.course_code}: {self.course_name} ({self.credit_hours} credit hours)\"\n",
    "\n",
    "\n",
    "class CoreCourse(Course):\n",
    "    def __init__(self, course_code, course_name, credit_hours, required_for_major):\n",
    "        super().__init__(course_code, course_name, credit_hours)\n",
    "        self.required_for_major = required_for_major\n",
    "\n",
    "    def __str__(self):\n",
    "        requirement = \"Required for major\" if self.required_for_major else \"Not required for major\"\n",
    "        return f\"{super().__str__()} - {requirement}\"\n",
    "\n",
    "\n",
    "class ElectiveCourse(Course):\n",
    "    def __init__(self, course_code, course_name, credit_hours, elective_type):\n",
    "        super().__init__(course_code, course_name, credit_hours)\n",
    "        self.elective_type = elective_type\n",
    "\n",
    "    def __str__(self):\n",
    "        return f\"{super().__str__()} - Elective Type: {self.elective_type}\"\n",
    "\n",
    "\n",
    "core_course = CoreCourse(\"CS101\", \"Introduction to Computer Science\", 3, True)\n",
    "elective_course = ElectiveCourse(\"ART202\", \"Modern Art History\", 2, \"liberal arts\")\n",
    "\n",
    "print(core_course)\n",
    "print(elective_course)"
   ]
  },
  {
   "cell_type": "markdown",
   "id": "6364b536-e7a7-4d4a-b88d-a7588eb87bde",
   "metadata": {},
   "source": [
    "# EXERCSIE 2 - CLASS MODULE OBJECT"
   ]
  },
  {
   "cell_type": "code",
   "execution_count": 48,
   "id": "e5b183d6-9926-4992-ade2-256e0c212e6f",
   "metadata": {},
   "outputs": [
    {
     "name": "stdout",
     "output_type": "stream",
     "text": [
      "John Doe\n",
      "50000\n"
     ]
    }
   ],
   "source": [
    "from employee import Employee\n",
    "emp = Employee(\"John Doe\", 50000)\n",
    "\n",
    "print(emp.get_name())\n",
    "\n",
    "print(emp.get_salary())\n"
   ]
  },
  {
   "cell_type": "code",
   "execution_count": null,
   "id": "522bc8c6-3697-4759-ab94-d151f20cf37a",
   "metadata": {},
   "outputs": [],
   "source": []
  }
 ],
 "metadata": {
  "kernelspec": {
   "display_name": "Python [conda env:base] *",
   "language": "python",
   "name": "conda-base-py"
  },
  "language_info": {
   "codemirror_mode": {
    "name": "ipython",
    "version": 3
   },
   "file_extension": ".py",
   "mimetype": "text/x-python",
   "name": "python",
   "nbconvert_exporter": "python",
   "pygments_lexer": "ipython3",
   "version": "3.12.7"
  }
 },
 "nbformat": 4,
 "nbformat_minor": 5
}
