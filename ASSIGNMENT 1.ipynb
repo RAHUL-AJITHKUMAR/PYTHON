{
 "cells": [
  {
   "cell_type": "markdown",
   "id": "531c4ec0-aac5-4eed-8b3c-8742f8547c90",
   "metadata": {},
   "source": [
    "EXERCISE 1\n"
   ]
  },
  {
   "cell_type": "code",
   "execution_count": 18,
   "id": "b1fba1be-dc3a-4dff-b135-7c937850b5ae",
   "metadata": {},
   "outputs": [
    {
     "name": "stdout",
     "output_type": "stream",
     "text": [
      "Name    :  RAHUL A\n",
      "STD NO  :  ME1505\n",
      "Mail ID :  rahul.ajithkumar5@gmail.com\n"
     ]
    }
   ],
   "source": [
    "print ('Name    :  RAHUL A')\n",
    "print ('STD NO  :  ME1505')\n",
    "print ('Mail ID :  rahul.ajithkumar5@gmail.com')"
   ]
  },
  {
   "cell_type": "markdown",
   "id": "4a4b630b-386a-41d3-9366-b63a6d3e14ae",
   "metadata": {},
   "source": [
    "EXERCISE 2"
   ]
  },
  {
   "cell_type": "code",
   "execution_count": 33,
   "id": "3f349ced-5383-43d3-bf86-ff189e2968f7",
   "metadata": {},
   "outputs": [
    {
     "name": "stdout",
     "output_type": "stream",
     "text": [
      "My name is 'RAHUL A'\n",
      "My STD NO is: \n",
      "\t      ME1505\n",
      "My gmail ID is,\"rahul.ajithkumar5@gmail.com\"\n"
     ]
    }
   ],
   "source": [
    "print(\"My name is 'RAHUL A'\" ) \n",
    "print('My STD NO is: \\n\\t      ME1505')\n",
    "print(\"My gmail ID is,\\\"rahul.ajithkumar5@gmail.com\\\"\")"
   ]
  },
  {
   "cell_type": "markdown",
   "id": "89edb7d0-3b9f-4685-86e0-75b2ae684ee1",
   "metadata": {},
   "source": [
    "EXERCISE 3"
   ]
  },
  {
   "cell_type": "code",
   "execution_count": 40,
   "id": "98b557e6-37bf-4815-86b9-219fc2fd6947",
   "metadata": {},
   "outputs": [
    {
     "name": "stdin",
     "output_type": "stream",
     "text": [
      "Enter First NO: 14\n",
      "Enter Second NO: 7\n"
     ]
    },
    {
     "name": "stdout",
     "output_type": "stream",
     "text": [
      "SUM        of 14 and 7 is: 21\n",
      "PRODUCT    of 14 and 7 is: 98\n",
      "DIFFERENCE of 14 and 7 is: 7\n",
      "DIVISION   of 14 and 7 is: 2.0\n"
     ]
    }
   ],
   "source": [
    "x = int(input(\"Enter First NO:\"))\n",
    "y = int(input(\"Enter Second NO:\"))\n",
    "\n",
    "print('SUM        of', x ,'and', y ,'is:', x+y)\n",
    "print('PRODUCT    of', x ,'and', y ,'is:', x*y)\n",
    "print('DIFFERENCE of', x ,'and', y ,'is:', x-y)\n",
    "print('DIVISION   of', x ,'and', y ,'is:', x/y)"
   ]
  },
  {
   "cell_type": "markdown",
   "id": "85ac1eb0-ff8a-4102-85ee-73c891826075",
   "metadata": {},
   "source": [
    "EXERCISE 4"
   ]
  },
  {
   "cell_type": "code",
   "execution_count": 51,
   "id": "12a6b1da-4134-419d-b142-dbe1ee2889fa",
   "metadata": {},
   "outputs": [
    {
     "name": "stdout",
     "output_type": "stream",
     "text": [
      "1\n",
      "2\n",
      "3\n",
      "4\n",
      "5\n"
     ]
    }
   ],
   "source": [
    "for i in range(1,6):\n",
    "    print(i)"
   ]
  },
  {
   "cell_type": "markdown",
   "id": "73c30a05-027e-494b-ad80-497320ba35f9",
   "metadata": {},
   "source": [
    "EXERCISE 5"
   ]
  },
  {
   "cell_type": "code",
   "execution_count": 58,
   "id": "589aa605-9cc6-4273-8a8e-70d57a023164",
   "metadata": {},
   "outputs": [
    {
     "name": "stdout",
     "output_type": "stream",
     "text": [
      "\"CID\" stands for \"Criminal Investigation Department\", whereas \n",
      "\"FBI\" stands for \"Federal Bureau of Investigation.\"\n"
     ]
    }
   ],
   "source": [
    "print(\"\\\"CID\\\" stands for \\\"Criminal Investigation Department\\\", whereas \\n\\\"FBI\\\" stands for \\\"Federal Bureau of Investigation.\\\"\")"
   ]
  },
  {
   "cell_type": "markdown",
   "id": "50a19f72-b744-43ef-8ec4-58d2aa47e2ef",
   "metadata": {},
   "source": [
    "EXERCISE 6"
   ]
  },
  {
   "cell_type": "code",
   "execution_count": 61,
   "id": "a688c22a-960b-46bb-854b-b113cb39ea4b",
   "metadata": {},
   "outputs": [
    {
     "name": "stdout",
     "output_type": "stream",
     "text": [
      "python is an \"awesome\" language.\n",
      "python\n",
      "\t2023\n",
      "I'm from Entri\n",
      "5\n",
      "e\n",
      "Entri\n",
      "2023\n",
      "Entr2023\n",
      "Entri*20"
     ]
    }
   ],
   "source": [
    "print(\"python is an \\\"awesome\\\" language.\")\n",
    "print(\"python\\n\\t2023\")\n",
    "print('I\\'m from Entri.\\b')\n",
    "print(\"\\65\")\n",
    "print(\"\\x65\")\n",
    "print(\"Entri\", \"2023\", sep=\"\\n\")\n",
    "print(\"Entri\", \"2023\", sep=\"\\b\")\n",
    "print(\"Entri\", \"2023\", sep=\"*\", end=\"\\b\\b\\b\\b\")"
   ]
  },
  {
   "cell_type": "markdown",
   "id": "5d953745-2b48-4c00-89b6-2fc0351cdd87",
   "metadata": {},
   "source": [
    "EXERCISE 7"
   ]
  },
  {
   "cell_type": "code",
   "execution_count": 87,
   "id": "06cfd3a4-0037-4b02-aaf3-e4a57677cbeb",
   "metadata": {},
   "outputs": [
    {
     "name": "stdout",
     "output_type": "stream",
     "text": [
      "Type of num is: <class 'int'>\n",
      "Type of textnum is: <class 'str'>\n",
      "Type of decimal is: <class 'float'>\n",
      "178.3\n",
      "<class 'float'>\n"
     ]
    }
   ],
   "source": [
    "num=23\n",
    "textnum=\"57\"\n",
    "decimal=98.3\n",
    "\n",
    "print(\"Type of num is:\",type(num))\n",
    "print(\"Type of textnum is:\",type(textnum))\n",
    "print(\"Type of decimal is:\",type(decimal))\n",
    "\n",
    "sum = num + int(textnum) + float(decimal)\n",
    "print(sum)\n",
    "print(type(sum))"
   ]
  },
  {
   "cell_type": "markdown",
   "id": "1382fd22-38c7-485e-ae70-5c00377c660f",
   "metadata": {},
   "source": [
    "EXERCISE 8"
   ]
  },
  {
   "cell_type": "code",
   "execution_count": 95,
   "id": "74deeacc-3e0c-443d-b36e-f96b0fbf88e1",
   "metadata": {},
   "outputs": [
    {
     "name": "stdout",
     "output_type": "stream",
     "text": [
      "Number of minutes in a year is : 525600\n"
     ]
    }
   ],
   "source": [
    "DAYS=365\n",
    "MINUTES=60\n",
    "HOURS=24\n",
    "\n",
    "x=DAYS*MINUTES*HOURS\n",
    "\n",
    "print('Number of minutes in a year is :', x)"
   ]
  },
  {
   "cell_type": "markdown",
   "id": "753a8e4e-ab47-468d-a0fe-c9da880e0edd",
   "metadata": {},
   "source": [
    "EXERCISE 9"
   ]
  },
  {
   "cell_type": "code",
   "execution_count": 78,
   "id": "17c755b9-c26e-43e9-ad34-d07db9cff5d6",
   "metadata": {},
   "outputs": [
    {
     "name": "stdin",
     "output_type": "stream",
     "text": [
      "Please enter your name : RAHUL\n"
     ]
    },
    {
     "name": "stdout",
     "output_type": "stream",
     "text": [
      "Hi RAHUL Welcome to the world of PYTHON\n"
     ]
    }
   ],
   "source": [
    "NAME = str(input(\"Please enter your name :\"))\n",
    "print(\"Hi\", NAME ,\"Welcome to the world of PYTHON\")"
   ]
  },
  {
   "cell_type": "markdown",
   "id": "2c5b8ef5-76e3-4646-8504-55d8ef1b87c5",
   "metadata": {},
   "source": [
    "EXERCISE 10\n",
    "POUNDS TO DOLLAR"
   ]
  },
  {
   "cell_type": "code",
   "execution_count": 82,
   "id": "859d0347-db95-40fc-b6cf-6a80ceeaf771",
   "metadata": {},
   "outputs": [
    {
     "name": "stdin",
     "output_type": "stream",
     "text": [
      "Please enter the amont in POUNDS(£) : 44\n"
     ]
    },
    {
     "name": "stdout",
     "output_type": "stream",
     "text": [
      "£ 44 in $ is : 55.44\n"
     ]
    }
   ],
   "source": [
    "POUND = int(input(\"Please enter the amont in POUNDS(£) :\"))\n",
    "print('£',POUND,'in $ is :',POUND*1.26)"
   ]
  },
  {
   "cell_type": "code",
   "execution_count": null,
   "id": "05d04cf2-9db6-4539-9a9f-63f5b60fc19a",
   "metadata": {},
   "outputs": [],
   "source": []
  }
 ],
 "metadata": {
  "kernelspec": {
   "display_name": "Python [conda env:base] *",
   "language": "python",
   "name": "conda-base-py"
  },
  "language_info": {
   "codemirror_mode": {
    "name": "ipython",
    "version": 3
   },
   "file_extension": ".py",
   "mimetype": "text/x-python",
   "name": "python",
   "nbconvert_exporter": "python",
   "pygments_lexer": "ipython3",
   "version": "3.12.7"
  }
 },
 "nbformat": 4,
 "nbformat_minor": 5
}
